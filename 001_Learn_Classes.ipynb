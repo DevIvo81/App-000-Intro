{
 "cells": [
  {
   "cell_type": "code",
   "execution_count": 1,
   "metadata": {},
   "outputs": [
    {
     "name": "stdout",
     "output_type": "stream",
     "text": [
      "Hello\n",
      "Hello\n"
     ]
    }
   ],
   "source": [
    "print(\"Hello\")\n",
    "print(\"Hello\")"
   ]
  },
  {
   "attachments": {},
   "cell_type": "markdown",
   "metadata": {},
   "source": [
    "#### Creating Classes"
   ]
  },
  {
   "cell_type": "code",
   "execution_count": 3,
   "metadata": {},
   "outputs": [
    {
     "data": {
      "text/plain": [
       "9"
      ]
     },
     "execution_count": 3,
     "metadata": {},
     "output_type": "execute_result"
    }
   ],
   "source": [
    "a = 4\n",
    "b = 5\n",
    "c = [6, 7, 8]\n",
    "\n",
    "d = \"Hi\"\n",
    "\"Hello\"\n",
    "\n",
    "def area(x):\n",
    "    return x ** 2\n",
    "\n",
    "area(3)\n",
    "\n"
   ]
  },
  {
   "cell_type": "code",
   "execution_count": 10,
   "metadata": {},
   "outputs": [],
   "source": [
    "inty = 5\n",
    "listy = [6, 7]\n",
    "\n",
    "stringy = \"Hi\"\n",
    "\n",
    "import folium\n",
    "\n",
    "azores = folium.Map(location = (38, -27), zoom_start=6)\n",
    "\n",
    "# azores\n",
    "\n",
    "zagreb = folium.Map(location = (45.815399, 15.966568), zoom_start=6)\n",
    "\n",
    "folium.Map(location = (45.815399, 15.966568), zoom_start=6).save(\"./files/output.html\")\n",
    "\n",
    "# zagreb\n"
   ]
  },
  {
   "cell_type": "code",
   "execution_count": 8,
   "metadata": {},
   "outputs": [
    {
     "data": {
      "text/plain": [
       "9"
      ]
     },
     "execution_count": 8,
     "metadata": {},
     "output_type": "execute_result"
    }
   ],
   "source": [
    "4 + 5"
   ]
  },
  {
   "cell_type": "code",
   "execution_count": 9,
   "metadata": {},
   "outputs": [
    {
     "data": {
      "text/plain": [
       "'Hi'"
      ]
     },
     "execution_count": 9,
     "metadata": {},
     "output_type": "execute_result"
    }
   ],
   "source": [
    "\"hi\".capitalize()"
   ]
  },
  {
   "cell_type": "code",
   "execution_count": 18,
   "metadata": {},
   "outputs": [
    {
     "name": "stdout",
     "output_type": "stream",
     "text": [
      " Volume in drive D is DATA\n",
      " Volume Serial Number is D218-5374\n",
      "\n",
      " Directory of d:\\000_PyProjects\\2-Udemy-OOP-Projects\n",
      "\n",
      "14.12.2022.  14:39    <DIR>          .\n",
      "14.12.2022.  12:46    <DIR>          ..\n",
      "14.12.2022.  13:15             3.089 .gitignore\n",
      "14.12.2022.  13:54    <DIR>          .vscode\n",
      "14.12.2022.  14:03               776 001_Learn_Classes.ipynb\n",
      "14.12.2022.  14:41    <DIR>          files\n",
      "14.12.2022.  13:26               128 hello.py\n",
      "14.12.2022.  14:33             1.460 requirements.txt\n",
      "14.12.2022.  13:50    <DIR>          venv_OOPs\n",
      "               4 File(s)          5.453 bytes\n",
      "               5 Dir(s)  243.148.091.392 bytes free\n"
     ]
    }
   ],
   "source": [
    "%ls"
   ]
  },
  {
   "cell_type": "code",
   "execution_count": 19,
   "metadata": {},
   "outputs": [
    {
     "data": {
      "text/plain": [
       "'d:\\\\000_PyProjects\\\\2-Udemy-OOP-Projects\\\\venv_OOPs\\\\lib\\\\site-packages\\\\folium\\\\__init__.py'"
      ]
     },
     "execution_count": 19,
     "metadata": {},
     "output_type": "execute_result"
    }
   ],
   "source": [
    "folium.__file__"
   ]
  },
  {
   "cell_type": "code",
   "execution_count": null,
   "metadata": {},
   "outputs": [],
   "source": []
  }
 ],
 "metadata": {
  "kernelspec": {
   "display_name": ".venv",
   "language": "python",
   "name": "python3"
  },
  "language_info": {
   "codemirror_mode": {
    "name": "ipython",
    "version": 3
   },
   "file_extension": ".py",
   "mimetype": "text/x-python",
   "name": "python",
   "nbconvert_exporter": "python",
   "pygments_lexer": "ipython3",
   "version": "3.10.9"
  },
  "orig_nbformat": 4,
  "vscode": {
   "interpreter": {
    "hash": "dec106d7b77758576aaf9572308e6cf2cc9b3b6927ec7db246c8b04331e8c54e"
   }
  }
 },
 "nbformat": 4,
 "nbformat_minor": 2
}
